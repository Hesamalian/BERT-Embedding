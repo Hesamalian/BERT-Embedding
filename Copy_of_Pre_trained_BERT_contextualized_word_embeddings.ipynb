{
  "nbformat": 4,
  "nbformat_minor": 0,
  "metadata": {
    "colab": {
      "name": "Copy of Pre-trained BERT contextualized word embeddings",
      "version": "0.3.2",
      "provenance": [],
      "collapsed_sections": [],
      "include_colab_link": true
    },
    "kernelspec": {
      "name": "python3",
      "display_name": "Python 3"
    },
    "accelerator": "TPU"
  },
  "cells": [
    {
      "cell_type": "markdown",
      "metadata": {
        "id": "view-in-github",
        "colab_type": "text"
      },
      "source": [
        "<a href=\"https://colab.research.google.com/github/Hesamalian/BERT-Embedding/blob/master/Copy_of_Pre_trained_BERT_contextualized_word_embeddings.ipynb\" target=\"_parent\"><img src=\"https://colab.research.google.com/assets/colab-badge.svg\" alt=\"Open In Colab\"/></a>"
      ]
    },
    {
      "cell_type": "code",
      "metadata": {
        "id": "eot6_cHkIxHu",
        "colab_type": "code",
        "outputId": "11e1b6c1-216a-44b3-ca44-0cf53ab2c474",
        "colab": {
          "base_uri": "https://localhost:8080/",
          "height": 131
        }
      },
      "source": [
        "!rm -rf bert\n",
        "!git clone https://github.com/google-research/bert"
      ],
      "execution_count": 0,
      "outputs": [
        {
          "output_type": "stream",
          "text": [
            "Cloning into 'bert'...\n",
            "remote: Enumerating objects: 333, done.\u001b[K\n",
            "remote: Total 333 (delta 0), reused 0 (delta 0), pack-reused 333\u001b[K\n",
            "Receiving objects: 100% (333/333), 277.61 KiB | 3.75 MiB/s, done.\n",
            "Resolving deltas: 100% (183/183), done.\n"
          ],
          "name": "stdout"
        }
      ]
    },
    {
      "cell_type": "code",
      "metadata": {
        "id": "plr13kC_IAoV",
        "colab_type": "code",
        "colab": {}
      },
      "source": [
        "import sys\n",
        "\n",
        "sys.path.append('bert/')\n",
        "\n",
        "from __future__ import absolute_import\n",
        "from __future__ import division\n",
        "from __future__ import print_function\n",
        "\n",
        "import codecs\n",
        "import collections\n",
        "import json\n",
        "import re\n",
        "import os\n",
        "import pprint\n",
        "import numpy as np\n",
        "import tensorflow as tf\n",
        "\n",
        "import modeling\n",
        "import tokenization"
      ],
      "execution_count": 0,
      "outputs": []
    },
    {
      "cell_type": "code",
      "metadata": {
        "id": "cOt0hGU_vbEd",
        "colab_type": "code",
        "outputId": "c085ba27-bbb6-402d-ca4a-f64d593067e0",
        "colab": {
          "base_uri": "https://localhost:8080/",
          "height": 391
        }
      },
      "source": [
        "assert 'COLAB_TPU_ADDR' in os.environ, 'ERROR: Not connected to a TPU runtime; please see the first cell in this notebook for instructions!'\n",
        "TPU_ADDRESS = 'grpc://' + os.environ['COLAB_TPU_ADDR']\n",
        "print('TPU address is', TPU_ADDRESS)\n",
        "\n",
        "from google.colab import auth\n",
        "auth.authenticate_user()\n",
        "with tf.Session(TPU_ADDRESS) as session:\n",
        "  print('TPU devices:')\n",
        "  pprint.pprint(session.list_devices())\n",
        "\n",
        "  # Upload credentials to TPU.\n",
        "  with open('/content/adc.json', 'r') as f:\n",
        "    auth_info = json.load(f)\n",
        "  tf.contrib.cloud.configure_gcs(session, credentials=auth_info)\n",
        "  # Now credentials are set for all future sessions on this TPU."
      ],
      "execution_count": 0,
      "outputs": [
        {
          "output_type": "stream",
          "text": [
            "TPU address is grpc://10.122.111.130:8470\n"
          ],
          "name": "stdout"
        },
        {
          "output_type": "stream",
          "text": [
            "WARNING: Logging before flag parsing goes to stderr.\n",
            "W0719 10:09:56.773096 140211060430720 lazy_loader.py:50] \n",
            "The TensorFlow contrib module will not be included in TensorFlow 2.0.\n",
            "For more information, please see:\n",
            "  * https://github.com/tensorflow/community/blob/master/rfcs/20180907-contrib-sunset.md\n",
            "  * https://github.com/tensorflow/addons\n",
            "  * https://github.com/tensorflow/io (for I/O related ops)\n",
            "If you depend on functionality not listed there, please file an issue.\n",
            "\n"
          ],
          "name": "stderr"
        },
        {
          "output_type": "stream",
          "text": [
            "TPU devices:\n",
            "[_DeviceAttributes(/job:tpu_worker/replica:0/task:0/device:CPU:0, CPU, -1, 17384077622496837368),\n",
            " _DeviceAttributes(/job:tpu_worker/replica:0/task:0/device:XLA_CPU:0, XLA_CPU, 17179869184, 2600579398008595486),\n",
            " _DeviceAttributes(/job:tpu_worker/replica:0/task:0/device:TPU:0, TPU, 17179869184, 6902390666166919801),\n",
            " _DeviceAttributes(/job:tpu_worker/replica:0/task:0/device:TPU:1, TPU, 17179869184, 2721094601462557745),\n",
            " _DeviceAttributes(/job:tpu_worker/replica:0/task:0/device:TPU:2, TPU, 17179869184, 5018244474586534085),\n",
            " _DeviceAttributes(/job:tpu_worker/replica:0/task:0/device:TPU:3, TPU, 17179869184, 5684809647906282631),\n",
            " _DeviceAttributes(/job:tpu_worker/replica:0/task:0/device:TPU:4, TPU, 17179869184, 6817311112551601495),\n",
            " _DeviceAttributes(/job:tpu_worker/replica:0/task:0/device:TPU:5, TPU, 17179869184, 5202788013627376479),\n",
            " _DeviceAttributes(/job:tpu_worker/replica:0/task:0/device:TPU:6, TPU, 17179869184, 14106683048301966649),\n",
            " _DeviceAttributes(/job:tpu_worker/replica:0/task:0/device:TPU:7, TPU, 17179869184, 2731150568566336642),\n",
            " _DeviceAttributes(/job:tpu_worker/replica:0/task:0/device:TPU_SYSTEM:0, TPU_SYSTEM, 8589934592, 18274335325687322005)]\n"
          ],
          "name": "stdout"
        }
      ]
    },
    {
      "cell_type": "code",
      "metadata": {
        "id": "0nqW7nJWhdad",
        "colab_type": "code",
        "outputId": "725f5dc7-97e1-4d4a-f9d5-a23355fdbad2",
        "colab": {
          "base_uri": "https://localhost:8080/",
          "height": 165
        }
      },
      "source": [
        "# Available pretrained model checkpoints:\n",
        "#   uncased_L-12_H-768_A-12: uncased BERT base model\n",
        "#   uncased_L-24_H-1024_A-16: uncased BERT large model\n",
        "#   cased_L-12_H-768_A-12: cased BERT large model\n",
        "BERT_MODEL = 'uncased_L-12_H-768_A-12' #@param {type:\"string\"}\n",
        "BERT_PRETRAINED_DIR = 'gs://cloud-tpu-checkpoints/bert/' + BERT_MODEL\n",
        "print('***** BERT pretrained directory: {} *****'.format(BERT_PRETRAINED_DIR))\n",
        "!gsutil ls $BERT_PRETRAINED_DIR"
      ],
      "execution_count": 0,
      "outputs": [
        {
          "output_type": "stream",
          "text": [
            "***** BERT pretrained directory: gs://cloud-tpu-checkpoints/bert/uncased_L-12_H-768_A-12 *****\n",
            "gs://cloud-tpu-checkpoints/bert/uncased_L-12_H-768_A-12/bert_config.json\n",
            "gs://cloud-tpu-checkpoints/bert/uncased_L-12_H-768_A-12/bert_model.ckpt.data-00000-of-00001\n",
            "gs://cloud-tpu-checkpoints/bert/uncased_L-12_H-768_A-12/bert_model.ckpt.index\n",
            "gs://cloud-tpu-checkpoints/bert/uncased_L-12_H-768_A-12/bert_model.ckpt.meta\n",
            "gs://cloud-tpu-checkpoints/bert/uncased_L-12_H-768_A-12/checkpoint\n",
            "gs://cloud-tpu-checkpoints/bert/uncased_L-12_H-768_A-12/vocab.txt\n"
          ],
          "name": "stdout"
        }
      ]
    },
    {
      "cell_type": "code",
      "metadata": {
        "id": "3oLGerwRKCe_",
        "colab_type": "code",
        "colab": {}
      },
      "source": [
        "LAYERS = [-1,-2,-3,-4]\n",
        "NUM_TPU_CORES = 8\n",
        "MAX_SEQ_LENGTH = 87\n",
        "BERT_CONFIG = BERT_PRETRAINED_DIR + '/bert_config.json'\n",
        "CHKPT_DIR = BERT_PRETRAINED_DIR + '/bert_model.ckpt'\n",
        "VOCAB_FILE = BERT_PRETRAINED_DIR + '/vocab.txt'\n",
        "INIT_CHECKPOINT = BERT_PRETRAINED_DIR + '/bert_model.ckpt'\n",
        "BATCH_SIZE = 128"
      ],
      "execution_count": 0,
      "outputs": []
    },
    {
      "cell_type": "code",
      "metadata": {
        "id": "3z5cIOXpHDUL",
        "colab_type": "code",
        "colab": {}
      },
      "source": [
        "class InputExample(object):\n",
        "\n",
        "  def __init__(self, unique_id, text_a, text_b=None):\n",
        "    self.unique_id = unique_id\n",
        "    self.text_a = text_a\n",
        "    self.text_b = text_b\n"
      ],
      "execution_count": 0,
      "outputs": []
    },
    {
      "cell_type": "code",
      "metadata": {
        "id": "z2rw4F53H7A-",
        "colab_type": "code",
        "colab": {}
      },
      "source": [
        "class InputFeatures(object):\n",
        "  \"\"\"A single set of features of data.\"\"\"\n",
        "\n",
        "  def __init__(self, unique_id, tokens, input_ids, input_mask, input_type_ids):\n",
        "    self.unique_id = unique_id\n",
        "    self.tokens = tokens\n",
        "    self.input_ids = input_ids\n",
        "    self.input_mask = input_mask\n",
        "    self.input_type_ids = input_type_ids"
      ],
      "execution_count": 0,
      "outputs": []
    },
    {
      "cell_type": "code",
      "metadata": {
        "id": "jkYivQahH7uZ",
        "colab_type": "code",
        "colab": {}
      },
      "source": [
        "def input_fn_builder(features, seq_length):\n",
        "  \"\"\"Creates an `input_fn` closure to be passed to TPUEstimator.\"\"\"\n",
        "\n",
        "  all_unique_ids = []\n",
        "  all_input_ids = []\n",
        "  all_input_mask = []\n",
        "  all_input_type_ids = []\n",
        "\n",
        "  for feature in features:\n",
        "    all_unique_ids.append(feature.unique_id)\n",
        "    all_input_ids.append(feature.input_ids)\n",
        "    all_input_mask.append(feature.input_mask)\n",
        "    all_input_type_ids.append(feature.input_type_ids)\n",
        "\n",
        "  def input_fn(params):\n",
        "    \"\"\"The actual input function.\"\"\"\n",
        "    batch_size = params[\"batch_size\"]\n",
        "\n",
        "    num_examples = len(features)\n",
        "\n",
        "    # This is for demo purposes and does NOT scale to large data sets. We do\n",
        "    # not use Dataset.from_generator() because that uses tf.py_func which is\n",
        "    # not TPU compatible. The right way to load data is with TFRecordReader.\n",
        "    d = tf.data.Dataset.from_tensor_slices({\n",
        "        \"unique_ids\":\n",
        "            tf.constant(all_unique_ids, shape=[num_examples], dtype=tf.int32),\n",
        "        \"input_ids\":\n",
        "            tf.constant(\n",
        "                all_input_ids, shape=[num_examples, seq_length],\n",
        "                dtype=tf.int32),\n",
        "        \"input_mask\":\n",
        "            tf.constant(\n",
        "                all_input_mask,\n",
        "                shape=[num_examples, seq_length],\n",
        "                dtype=tf.int32),\n",
        "        \"input_type_ids\":\n",
        "            tf.constant(\n",
        "                all_input_type_ids,\n",
        "                shape=[num_examples, seq_length],\n",
        "                dtype=tf.int32),\n",
        "    })\n",
        "\n",
        "    d = d.batch(batch_size=batch_size, drop_remainder=False)\n",
        "    return d\n",
        "\n",
        "  return input_fn"
      ],
      "execution_count": 0,
      "outputs": []
    },
    {
      "cell_type": "code",
      "metadata": {
        "id": "sitEUE6yJWxO",
        "colab_type": "code",
        "colab": {}
      },
      "source": [
        "def model_fn_builder(bert_config, init_checkpoint, layer_indexes, use_tpu,\n",
        "                     use_one_hot_embeddings):\n",
        "  \"\"\"Returns `model_fn` closure for TPUEstimator.\"\"\"\n",
        "\n",
        "  def model_fn(features, labels, mode, params):  # pylint: disable=unused-argument\n",
        "    \"\"\"The `model_fn` for TPUEstimator.\"\"\"\n",
        "\n",
        "    unique_ids = features[\"unique_ids\"]\n",
        "    input_ids = features[\"input_ids\"]\n",
        "    input_mask = features[\"input_mask\"]\n",
        "    input_type_ids = features[\"input_type_ids\"]\n",
        "\n",
        "    model = modeling.BertModel(\n",
        "        config=bert_config,\n",
        "        is_training=False,\n",
        "        input_ids=input_ids,\n",
        "        input_mask=input_mask,\n",
        "        token_type_ids=input_type_ids,\n",
        "        use_one_hot_embeddings=use_one_hot_embeddings)\n",
        "\n",
        "    if mode != tf.estimator.ModeKeys.PREDICT:\n",
        "      raise ValueError(\"Only PREDICT modes are supported: %s\" % (mode))\n",
        "\n",
        "    tvars = tf.trainable_variables()\n",
        "    scaffold_fn = None\n",
        "    (assignment_map,\n",
        "     initialized_variable_names) = modeling.get_assignment_map_from_checkpoint(\n",
        "         tvars, init_checkpoint)\n",
        "    if use_tpu:\n",
        "\n",
        "      def tpu_scaffold():\n",
        "        tf.train.init_from_checkpoint(init_checkpoint, assignment_map)\n",
        "        return tf.train.Scaffold()\n",
        "\n",
        "      scaffold_fn = tpu_scaffold\n",
        "    else:\n",
        "      tf.train.init_from_checkpoint(init_checkpoint, assignment_map)\n",
        "\n",
        "    tf.logging.info(\"**** Trainable Variables ****\")\n",
        "    for var in tvars:\n",
        "      init_string = \"\"\n",
        "      if var.name in initialized_variable_names:\n",
        "        init_string = \", *INIT_FROM_CKPT*\"\n",
        "      tf.logging.info(\"  name = %s, shape = %s%s\", var.name, var.shape,\n",
        "                      init_string)\n",
        "\n",
        "    all_layers = model.get_all_encoder_layers()\n",
        "\n",
        "    predictions = {\n",
        "        \"unique_id\": unique_ids,\n",
        "    }\n",
        "\n",
        "    for (i, layer_index) in enumerate(layer_indexes):\n",
        "      predictions[\"layer_output_%d\" % i] = all_layers[layer_index]\n",
        "\n",
        "    output_spec = tf.contrib.tpu.TPUEstimatorSpec(\n",
        "        mode=mode, predictions=predictions, scaffold_fn=scaffold_fn)\n",
        "    return output_spec\n",
        "\n",
        "  return model_fn"
      ],
      "execution_count": 0,
      "outputs": []
    },
    {
      "cell_type": "code",
      "metadata": {
        "id": "m7uS21ZTJYTT",
        "colab_type": "code",
        "colab": {}
      },
      "source": [
        "def convert_examples_to_features(examples, seq_length, tokenizer):\n",
        "  \"\"\"Loads a data file into a list of `InputBatch`s.\"\"\"\n",
        "\n",
        "  features = []\n",
        "  for (ex_index, example) in enumerate(examples):\n",
        "    tokens_a = tokenizer.tokenize(example.text_a)\n",
        "\n",
        "    tokens_b = None\n",
        "    if example.text_b:\n",
        "      tokens_b = tokenizer.tokenize(example.text_b)\n",
        "\n",
        "    if tokens_b:\n",
        "      # Modifies `tokens_a` and `tokens_b` in place so that the total\n",
        "      # length is less than the specified length.\n",
        "      # Account for [CLS], [SEP], [SEP] with \"- 3\"\n",
        "      _truncate_seq_pair(tokens_a, tokens_b, seq_length - 3)\n",
        "    else:\n",
        "      # Account for [CLS] and [SEP] with \"- 2\"\n",
        "      if len(tokens_a) > seq_length - 2:\n",
        "        tokens_a = tokens_a[0:(seq_length - 2)]\n",
        "\n",
        "    # The convention in BERT is:\n",
        "    # (a) For sequence pairs:\n",
        "    #  tokens:   [CLS] is this jack ##son ##ville ? [SEP] no it is not . [SEP]\n",
        "    #  type_ids: 0     0  0    0    0     0       0 0     1  1  1  1   1 1\n",
        "    # (b) For single sequences:\n",
        "    #  tokens:   [CLS] the dog is hairy . [SEP]\n",
        "    #  type_ids: 0     0   0   0  0     0 0\n",
        "    #\n",
        "    # Where \"type_ids\" are used to indicate whether this is the first\n",
        "    # sequence or the second sequence. The embedding vectors for `type=0` and\n",
        "    # `type=1` were learned during pre-training and are added to the wordpiece\n",
        "    # embedding vector (and position vector). This is not *strictly* necessary\n",
        "    # since the [SEP] token unambiguously separates the sequences, but it makes\n",
        "    # it easier for the model to learn the concept of sequences.\n",
        "    #\n",
        "    # For classification tasks, the first vector (corresponding to [CLS]) is\n",
        "    # used as as the \"sentence vector\". Note that this only makes sense because\n",
        "    # the entire model is fine-tuned.\n",
        "    tokens = []\n",
        "    input_type_ids = []\n",
        "    tokens.append(\"[CLS]\")\n",
        "    input_type_ids.append(0)\n",
        "    for token in tokens_a:\n",
        "      tokens.append(token)\n",
        "      input_type_ids.append(0)\n",
        "    tokens.append(\"[SEP]\")\n",
        "    input_type_ids.append(0)\n",
        "\n",
        "    if tokens_b:\n",
        "      for token in tokens_b:\n",
        "        tokens.append(token)\n",
        "        input_type_ids.append(1)\n",
        "      tokens.append(\"[SEP]\")\n",
        "      input_type_ids.append(1)\n",
        "\n",
        "    input_ids = tokenizer.convert_tokens_to_ids(tokens)\n",
        "\n",
        "    # The mask has 1 for real tokens and 0 for padding tokens. Only real\n",
        "    # tokens are attended to.\n",
        "    input_mask = [1] * len(input_ids)\n",
        "\n",
        "    # Zero-pad up to the sequence length.\n",
        "    while len(input_ids) < seq_length:\n",
        "      input_ids.append(0)\n",
        "      input_mask.append(0)\n",
        "      input_type_ids.append(0)\n",
        "\n",
        "    assert len(input_ids) == seq_length\n",
        "    assert len(input_mask) == seq_length\n",
        "    assert len(input_type_ids) == seq_length\n",
        "\n",
        "    if ex_index < 5:\n",
        "      tf.logging.info(\"*** Example ***\")\n",
        "      tf.logging.info(\"unique_id: %s\" % (example.unique_id))\n",
        "      tf.logging.info(\"tokens: %s\" % \" \".join(\n",
        "          [tokenization.printable_text(x) for x in tokens]))\n",
        "      tf.logging.info(\"input_ids: %s\" % \" \".join([str(x) for x in input_ids]))\n",
        "      tf.logging.info(\"input_mask: %s\" % \" \".join([str(x) for x in input_mask]))\n",
        "      tf.logging.info(\n",
        "          \"input_type_ids: %s\" % \" \".join([str(x) for x in input_type_ids]))\n",
        "\n",
        "    features.append(\n",
        "        InputFeatures(\n",
        "            unique_id=example.unique_id,\n",
        "            tokens=tokens,\n",
        "            input_ids=input_ids,\n",
        "            input_mask=input_mask,\n",
        "            input_type_ids=input_type_ids))\n",
        "  return features"
      ],
      "execution_count": 0,
      "outputs": []
    },
    {
      "cell_type": "code",
      "metadata": {
        "id": "8kv4oBpaJfKl",
        "colab_type": "code",
        "colab": {}
      },
      "source": [
        "def _truncate_seq_pair(tokens_a, tokens_b, max_length):\n",
        "  \"\"\"Truncates a sequence pair in place to the maximum length.\"\"\"\n",
        "\n",
        "  # This is a simple heuristic which will always truncate the longer sequence\n",
        "  # one token at a time. This makes more sense than truncating an equal percent\n",
        "  # of tokens from each, since if one sequence is very short then each token\n",
        "  # that's truncated likely contains more information than a longer sequence.\n",
        "  while True:\n",
        "    total_length = len(tokens_a) + len(tokens_b)\n",
        "    if total_length <= max_length:\n",
        "      break\n",
        "    if len(tokens_a) > len(tokens_b):\n",
        "      tokens_a.pop()\n",
        "    else:\n",
        "      tokens_b.pop()"
      ],
      "execution_count": 0,
      "outputs": []
    },
    {
      "cell_type": "code",
      "metadata": {
        "id": "3ybhvF0hJhTO",
        "colab_type": "code",
        "colab": {}
      },
      "source": [
        "def read_sequence(input_sentences):\n",
        "  examples = []\n",
        "  unique_id = 0\n",
        "  for sentence in input_sentences:\n",
        "    line = tokenization.convert_to_unicode(sentence)\n",
        "    examples.append(InputExample(unique_id=unique_id, text_a=line))\n",
        "    unique_id += 1\n",
        "  return examples\n",
        "  "
      ],
      "execution_count": 0,
      "outputs": []
    },
    {
      "cell_type": "code",
      "metadata": {
        "id": "4kzMl3rQJjgV",
        "colab_type": "code",
        "colab": {}
      },
      "source": [
        "def get_features(input_text, dim=768):\n",
        "#   tf.logging.set_verbosity(tf.logging.INFO)\n",
        "\n",
        "  layer_indexes = LAYERS\n",
        "\n",
        "  bert_config = modeling.BertConfig.from_json_file(BERT_CONFIG)\n",
        "\n",
        "  tokenizer = tokenization.FullTokenizer(\n",
        "      vocab_file=VOCAB_FILE, do_lower_case=True)\n",
        "\n",
        "  is_per_host = tf.contrib.tpu.InputPipelineConfig.PER_HOST_V2\n",
        "  tpu_cluster_resolver = tf.contrib.cluster_resolver.TPUClusterResolver(TPU_ADDRESS)\n",
        "  run_config = tf.contrib.tpu.RunConfig(\n",
        "      cluster=tpu_cluster_resolver,\n",
        "      tpu_config=tf.contrib.tpu.TPUConfig(\n",
        "          num_shards=NUM_TPU_CORES,\n",
        "          per_host_input_for_training=is_per_host))\n",
        "\n",
        "  examples = read_sequence(input_text)\n",
        "\n",
        "  features = convert_examples_to_features(\n",
        "      examples=examples, seq_length=MAX_SEQ_LENGTH, tokenizer=tokenizer)\n",
        "\n",
        "  unique_id_to_feature = {}\n",
        "  for feature in features:\n",
        "    unique_id_to_feature[feature.unique_id] = feature\n",
        "\n",
        "  model_fn = model_fn_builder(\n",
        "      bert_config=bert_config,\n",
        "      init_checkpoint=INIT_CHECKPOINT,\n",
        "      layer_indexes=layer_indexes,\n",
        "      use_tpu=True,\n",
        "      use_one_hot_embeddings=True)\n",
        "\n",
        "  # If TPU is not available, this will fall back to normal Estimator on CPU\n",
        "  # or GPU.\n",
        "  estimator = tf.contrib.tpu.TPUEstimator(\n",
        "      use_tpu=True,\n",
        "      model_fn=model_fn,\n",
        "      config=run_config,\n",
        "      predict_batch_size=BATCH_SIZE,\n",
        "      train_batch_size=BATCH_SIZE)\n",
        "\n",
        "  input_fn = input_fn_builder(\n",
        "      features=features, seq_length=MAX_SEQ_LENGTH)\n",
        "\n",
        "  # Get features\n",
        "  for result in estimator.predict(input_fn, yield_single_examples=True):\n",
        "    unique_id = int(result[\"unique_id\"])\n",
        "    feature = unique_id_to_feature[unique_id]\n",
        "    output = collections.OrderedDict()\n",
        "    for (i, token) in enumerate(feature.tokens):\n",
        "      layers = []\n",
        "      for (j, layer_index) in enumerate(layer_indexes):\n",
        "        layer_output = result[\"layer_output_%d\" % j]\n",
        "        layer_output_flat = np.array([x for x in layer_output[i:(i + 1)].flat])\n",
        "        layers.append(layer_output_flat)\n",
        "      output[token] = sum(layers)[:dim]\n",
        "  \n",
        "  return output"
      ],
      "execution_count": 0,
      "outputs": []
    },
    {
      "cell_type": "code",
      "metadata": {
        "id": "gJp9DY5WJmBv",
        "colab_type": "code",
        "outputId": "ae0b6a6d-0e70-456c-8dc7-494780569f80",
        "colab": {
          "base_uri": "https://localhost:8080/",
          "height": 400
        }
      },
      "source": [
        "embeddings = get_features([\"This is a test\"])\n"
      ],
      "execution_count": 0,
      "outputs": [
        {
          "output_type": "stream",
          "text": [
            "W0719 10:10:34.048337 140211060430720 deprecation_wrapper.py:119] From bert/modeling.py:93: The name tf.gfile.GFile is deprecated. Please use tf.io.gfile.GFile instead.\n",
            "\n",
            "W0719 10:10:36.465833 140211060430720 estimator.py:1984] Estimator's model_fn (<function model_fn_builder.<locals>.model_fn at 0x7f8526beaf28>) includes params argument, but params are not passed to Estimator.\n",
            "W0719 10:10:36.469509 140211060430720 estimator.py:1811] Using temporary folder as model directory: /tmp/tmpzxoszqx8\n",
            "W0719 10:10:36.734985 140211060430720 deprecation_wrapper.py:119] From bert/modeling.py:171: The name tf.variable_scope is deprecated. Please use tf.compat.v1.variable_scope instead.\n",
            "\n",
            "W0719 10:10:36.739857 140211060430720 deprecation_wrapper.py:119] From bert/modeling.py:409: The name tf.get_variable is deprecated. Please use tf.compat.v1.get_variable instead.\n",
            "\n",
            "W0719 10:10:36.971348 140211060430720 deprecation_wrapper.py:119] From bert/modeling.py:490: The name tf.assert_less_equal is deprecated. Please use tf.compat.v1.assert_less_equal instead.\n",
            "\n",
            "W0719 10:10:37.040613 140211060430720 deprecation.py:323] From bert/modeling.py:671: dense (from tensorflow.python.layers.core) is deprecated and will be removed in a future version.\n",
            "Instructions for updating:\n",
            "Use keras.layers.dense instead.\n",
            "W0719 10:10:43.012125 140211060430720 deprecation.py:323] From /usr/local/lib/python3.6/dist-packages/tensorflow/python/ops/array_ops.py:1354: add_dispatch_support.<locals>.wrapper (from tensorflow.python.ops.array_ops) is deprecated and will be removed in a future version.\n",
            "Instructions for updating:\n",
            "Use tf.where in 2.0, which has the same broadcast rule as np.where\n",
            "W0719 10:10:51.469869 140211060430720 deprecation.py:323] From /usr/local/lib/python3.6/dist-packages/tensorflow_estimator/python/estimator/tpu/tpu_estimator.py:808: Variable.load (from tensorflow.python.ops.variables) is deprecated and will be removed in a future version.\n",
            "Instructions for updating:\n",
            "Prefer Variable.assign which has equivalent behavior in 2.X.\n"
          ],
          "name": "stderr"
        }
      ]
    },
    {
      "cell_type": "code",
      "metadata": {
        "id": "QhPGe469tmAT",
        "colab_type": "code",
        "outputId": "a15b100b-0b35-49a3-ffa4-b6b86461af2e",
        "colab": {
          "base_uri": "https://localhost:8080/",
          "height": 114
        }
      },
      "source": [
        "embeddings = get_features([sentences1[0]])"
      ],
      "execution_count": 0,
      "outputs": [
        {
          "output_type": "stream",
          "text": [
            "W0719 12:11:44.003319 140211060430720 estimator.py:1984] Estimator's model_fn (<function model_fn_builder.<locals>.model_fn at 0x7f8533acef28>) includes params argument, but params are not passed to Estimator.\n",
            "W0719 12:11:44.005318 140211060430720 estimator.py:1811] Using temporary folder as model directory: /tmp/tmpxlshmy7p\n"
          ],
          "name": "stderr"
        }
      ]
    },
    {
      "cell_type": "code",
      "metadata": {
        "id": "4UqMGDFHJNx5",
        "colab_type": "code",
        "outputId": "ace1ba07-2ff3-43fd-cb04-ab49a87794cb",
        "colab": {
          "base_uri": "https://localhost:8080/",
          "height": 94
        }
      },
      "source": [
        "sentences1[0]"
      ],
      "execution_count": 0,
      "outputs": [
        {
          "output_type": "execute_result",
          "data": {
            "text/plain": [
              "'the automobile and truck industries will diversify their powertrains considerably. Besides internal combustion engine (ICE) vehicles, popular automobiles will more than likely include plug-in hybrid electric vehicles (PHEVs), fully battery-powered electric vehicles (BEVs), and fuel cell electric vehicles (FCEVs) running on hydrogen. It’s still not clear precisely which vehicles customers will prefer; nevertheless, auto makers need to make strategic decisions today regarding their fuels and powertrains.'"
            ]
          },
          "metadata": {
            "tags": []
          },
          "execution_count": 35
        }
      ]
    },
    {
      "cell_type": "code",
      "metadata": {
        "id": "VTMRWgELtzNG",
        "colab_type": "code",
        "colab": {}
      },
      "source": [
        "sentences1=['the automobile and truck industries will diversify their powertrains considerably. Besides internal combustion engine (ICE) vehicles, popular automobiles will more than likely include plug-in hybrid electric vehicles (PHEVs), fully battery-powered electric vehicles (BEVs), and fuel cell electric vehicles (FCEVs) running on hydrogen. It’s still not clear precisely which vehicles customers will prefer; nevertheless, auto makers need to make strategic decisions today regarding their fuels and powertrains.','This report provides a detailed analysis that compares the total cost of ownership (TCO) for each type of fuel and powertrain — today and projected through 2030. The estimates are based on factors such as required infrastructure, cost of fuel, taxes, regulations, mileage requirements, efficiency improvements, depreciation, maintenance, and insurance. Knowing the total cost of ownership can help auto makers generate a strategic road map during this period of disruption.','Although TCO will rise for the ICE, it will remain the most cost-effective vehicle for many drivers. However, technological advances in batteries, and other factors, will make BEVs increasingly competitive. FCEVs will also drop in cost. To be strategically ready for change, auto makers and suppliers should consider four broad actions today: prepare to ramp up production for the vehicles they choose to produce; optimize product costs across powertrains; focus on innovation (including more collaborative innovation); and recruit and train engineers familiar with the new powertrain alternatives.','It’s not necessary to consult a crystal ball to realize that, by the end of the next decade, the variety of automobiles on the road won’t resemble today’s relatively homogenous fleet at all. Today’s internal combustion engine (ICE) vehicles will be complemented by a mixture of powertrains, all legitimate suitors for customer attention. Besides','ICE vehicles, there will more than likely be plug-in hybrid electric vehicles (PHEVs), fully battery-powered electric vehicles (BEVs), and fuel cell electric vehicles (FCEVs) running on hydrogen.','categories, where BEVs are the best TCO option. This is primarily because for a low-range vehicle, the significant savings in fuel costs from BEVs compensate for the higher cost of battery powertrains.','However, for longer-range vehicles, ICE comes out on top. The price of an ICE powertrain for a given car does not increase with greater range (except perhaps for the minimal expense of a larger gas tank), whereas battery prices for electric vehicles (EVs) do rise as the range (and, hence, the size of the batteries) expands.','Between 2018 and 2030, cost differences among powertrains will change considerably, thus altering the TCO analyses. For each type of vehicle, here is how we anticipate that TCOs will be affected by these cost shifts:','To bring some clarity and direction to this challenge, Strategy&amp;, PwC’s strategy consulting business, recently undertook a detailed analysis that compares the total cost of ownership (TCO) for each powertrain currently and at landmark years through 2030. We projected the cost and required infrastructure to produce and distribute alternative fuels.','We plugged these factors into TCO analyses covering three separate automotive segments — budget, volume, and premium — and four different mileage ranges that a car can travel before refueling. In our estimates for 2030, we also included the impact of technological gains (mainly for batteries and power electronics), more stringent regulatory requirements for combustion engines, efficiency improvements, fuel costs, and depreciation. Taxes, maintenance, and insurance were also considered but were weighted less heavily.']\n"
      ],
      "execution_count": 0,
      "outputs": []
    },
    {
      "cell_type": "code",
      "metadata": {
        "id": "ZsBPHjR7uPE6",
        "colab_type": "code",
        "outputId": "817b64b6-80e4-4418-84eb-4bfdc1e18253",
        "colab": {
          "base_uri": "https://localhost:8080/",
          "height": 454
        }
      },
      "source": [
        "results = [get_features([a]) for a in sentences1]"
      ],
      "execution_count": 0,
      "outputs": [
        {
          "output_type": "stream",
          "text": [
            "W0719 12:13:02.248336 140211060430720 estimator.py:1984] Estimator's model_fn (<function model_fn_builder.<locals>.model_fn at 0x7f8522ae3d90>) includes params argument, but params are not passed to Estimator.\n",
            "W0719 12:13:02.250980 140211060430720 estimator.py:1811] Using temporary folder as model directory: /tmp/tmpf2u1lyfj\n",
            "W0719 12:13:29.853945 140211060430720 estimator.py:1984] Estimator's model_fn (<function model_fn_builder.<locals>.model_fn at 0x7f8533357488>) includes params argument, but params are not passed to Estimator.\n",
            "W0719 12:13:29.855920 140211060430720 estimator.py:1811] Using temporary folder as model directory: /tmp/tmpq37x_tnn\n",
            "W0719 12:14:00.266627 140211060430720 estimator.py:1984] Estimator's model_fn (<function model_fn_builder.<locals>.model_fn at 0x7f8523ea71e0>) includes params argument, but params are not passed to Estimator.\n",
            "W0719 12:14:00.268734 140211060430720 estimator.py:1811] Using temporary folder as model directory: /tmp/tmp6wm_9bxo\n",
            "W0719 12:14:30.978183 140211060430720 estimator.py:1984] Estimator's model_fn (<function model_fn_builder.<locals>.model_fn at 0x7f852462e400>) includes params argument, but params are not passed to Estimator.\n",
            "W0719 12:14:30.981690 140211060430720 estimator.py:1811] Using temporary folder as model directory: /tmp/tmpw8sj0jto\n",
            "W0719 12:15:05.249216 140211060430720 estimator.py:1984] Estimator's model_fn (<function model_fn_builder.<locals>.model_fn at 0x7f8525275bf8>) includes params argument, but params are not passed to Estimator.\n",
            "W0719 12:15:05.251222 140211060430720 estimator.py:1811] Using temporary folder as model directory: /tmp/tmpeg4031sf\n",
            "W0719 12:15:40.621809 140211060430720 estimator.py:1984] Estimator's model_fn (<function model_fn_builder.<locals>.model_fn at 0x7f8532eb6e18>) includes params argument, but params are not passed to Estimator.\n",
            "W0719 12:15:40.624350 140211060430720 estimator.py:1811] Using temporary folder as model directory: /tmp/tmprwrddf58\n",
            "W0719 12:16:15.445503 140211060430720 estimator.py:1984] Estimator's model_fn (<function model_fn_builder.<locals>.model_fn at 0x7f8532d93d08>) includes params argument, but params are not passed to Estimator.\n",
            "W0719 12:16:15.448027 140211060430720 estimator.py:1811] Using temporary folder as model directory: /tmp/tmpyel62me5\n",
            "W0719 12:16:50.085414 140211060430720 estimator.py:1984] Estimator's model_fn (<function model_fn_builder.<locals>.model_fn at 0x7f85253e86a8>) includes params argument, but params are not passed to Estimator.\n",
            "W0719 12:16:50.087800 140211060430720 estimator.py:1811] Using temporary folder as model directory: /tmp/tmpncelvnkg\n",
            "W0719 12:17:25.572566 140211060430720 estimator.py:1984] Estimator's model_fn (<function model_fn_builder.<locals>.model_fn at 0x7f8523064158>) includes params argument, but params are not passed to Estimator.\n",
            "W0719 12:17:25.574889 140211060430720 estimator.py:1811] Using temporary folder as model directory: /tmp/tmp00dyem29\n",
            "W0719 12:18:00.579633 140211060430720 estimator.py:1984] Estimator's model_fn (<function model_fn_builder.<locals>.model_fn at 0x7f85246802f0>) includes params argument, but params are not passed to Estimator.\n",
            "W0719 12:18:00.581577 140211060430720 estimator.py:1811] Using temporary folder as model directory: /tmp/tmpm1g8jn4v\n"
          ],
          "name": "stderr"
        }
      ]
    },
    {
      "cell_type": "code",
      "metadata": {
        "id": "f66lsI4TmYno",
        "colab_type": "code",
        "colab": {}
      },
      "source": [
        "def sent_vectorizer(model):\n",
        "    sent_vec =[]\n",
        "    numw = 0\n",
        "    for key,value in model.items():\n",
        "        try:\n",
        "            if numw == 0:\n",
        "                sent_vec = model[key]\n",
        "            else:\n",
        "                sent_vec = np.add(sent_vec, model[key])\n",
        "            numw+=1\n",
        "        except:\n",
        "            pass\n",
        "     \n",
        "    return np.asarray(sent_vec) / numw\n",
        "  \n",
        "  \n",
        "X=[]\n",
        "for res in results:\n",
        "    X.append(sent_vectorizer(res))"
      ],
      "execution_count": 0,
      "outputs": []
    },
    {
      "cell_type": "code",
      "metadata": {
        "id": "O0g0oGcrLg87",
        "colab_type": "code",
        "colab": {}
      },
      "source": [
        "from gensim.models import Word2Vec\n",
        "  \n",
        "from nltk.cluster import KMeansClusterer\n",
        "from nltk import word_tokenize\n",
        "import nltk\n",
        "import numpy as np \n",
        "  \n",
        "from sklearn import cluster\n",
        "from sklearn import metrics"
      ],
      "execution_count": 0,
      "outputs": []
    },
    {
      "cell_type": "code",
      "metadata": {
        "id": "2mV_f6hqLW15",
        "colab_type": "code",
        "outputId": "4408de96-1cb3-4e4e-de9c-47c2aba5c537",
        "colab": {
          "base_uri": "https://localhost:8080/",
          "height": 476
        }
      },
      "source": [
        "\n",
        "NUM_CLUSTERS=3\n",
        "kclusterer = KMeansClusterer(NUM_CLUSTERS, distance=nltk.cluster.util.cosine_distance, repeats=25)\n",
        "assigned_clusters = kclusterer.cluster(X, assign_clusters=True)\n",
        "print (assigned_clusters)\n",
        "  \n",
        "  \n",
        "  \n",
        "# for index, sentence in enumerate(sentences):    \n",
        "#     print (str(assigned_clusters[index]) + \":\" + str(sentence))\n",
        " \n",
        "     \n",
        "     \n",
        "     \n",
        "kmeans = cluster.KMeans(n_clusters=NUM_CLUSTERS)\n",
        "kmeans.fit(X)\n",
        "  \n",
        "labels = kmeans.labels_\n",
        "centroids = kmeans.cluster_centers_\n",
        "  \n",
        "# print (\"Cluster id labels for inputted data\")\n",
        "# print (labels)\n",
        "# print (\"Centroids data\")\n",
        "# print (centroids)\n",
        "  \n",
        "# print (\"Score (Opposite of the value of X on the K-means objective which is Sum of distances of samples to their closest cluster center):\")\n",
        "# print (kmeans.score(X))\n",
        "  \n",
        "# silhouette_score = metrics.silhouette_score(X, labels, metric='euclidean')\n",
        "  \n",
        "# print (\"Silhouette_score: \")\n",
        "# print (silhouette_score)\n",
        " \n",
        " \n",
        "import matplotlib.pyplot as plt\n",
        " \n",
        "from sklearn.manifold import TSNE\n",
        " \n",
        "model = TSNE(n_components=2, random_state=0)\n",
        "np.set_printoptions(suppress=True)\n",
        " \n",
        "Y=model.fit_transform(X)\n",
        " \n",
        " \n",
        "plt.scatter(Y[:, 0], Y[:, 1], c=assigned_clusters, s=290,alpha=.5)\n",
        " \n",
        " \n",
        "for j in range(len(sentences1)):    \n",
        "   plt.annotate(assigned_clusters[j],xy=(Y[j][0], Y[j][1]),xytext=(0,0),textcoords='offset points')\n",
        "   print (\"%s %s\" % (assigned_clusters[j],  sentences1[j]))"
      ],
      "execution_count": 0,
      "outputs": [
        {
          "output_type": "stream",
          "text": [
            "[0, 1, 0, 0, 2, 2, 2, 0, 1, 1]\n",
            "0 the automobile and truck industries will diversify their powertrains considerably. Besides internal combustion engine (ICE) vehicles, popular automobiles will more than likely include plug-in hybrid electric vehicles (PHEVs), fully battery-powered electric vehicles (BEVs), and fuel cell electric vehicles (FCEVs) running on hydrogen. It’s still not clear precisely which vehicles customers will prefer; nevertheless, auto makers need to make strategic decisions today regarding their fuels and powertrains.\n",
            "1 This report provides a detailed analysis that compares the total cost of ownership (TCO) for each type of fuel and powertrain — today and projected through 2030. The estimates are based on factors such as required infrastructure, cost of fuel, taxes, regulations, mileage requirements, efficiency improvements, depreciation, maintenance, and insurance. Knowing the total cost of ownership can help auto makers generate a strategic road map during this period of disruption.\n",
            "0 Although TCO will rise for the ICE, it will remain the most cost-effective vehicle for many drivers. However, technological advances in batteries, and other factors, will make BEVs increasingly competitive. FCEVs will also drop in cost. To be strategically ready for change, auto makers and suppliers should consider four broad actions today: prepare to ramp up production for the vehicles they choose to produce; optimize product costs across powertrains; focus on innovation (including more collaborative innovation); and recruit and train engineers familiar with the new powertrain alternatives.\n",
            "0 It’s not necessary to consult a crystal ball to realize that, by the end of the next decade, the variety of automobiles on the road won’t resemble today’s relatively homogenous fleet at all. Today’s internal combustion engine (ICE) vehicles will be complemented by a mixture of powertrains, all legitimate suitors for customer attention. Besides\n",
            "2 ICE vehicles, there will more than likely be plug-in hybrid electric vehicles (PHEVs), fully battery-powered electric vehicles (BEVs), and fuel cell electric vehicles (FCEVs) running on hydrogen.\n",
            "2 categories, where BEVs are the best TCO option. This is primarily because for a low-range vehicle, the significant savings in fuel costs from BEVs compensate for the higher cost of battery powertrains.\n",
            "2 However, for longer-range vehicles, ICE comes out on top. The price of an ICE powertrain for a given car does not increase with greater range (except perhaps for the minimal expense of a larger gas tank), whereas battery prices for electric vehicles (EVs) do rise as the range (and, hence, the size of the batteries) expands.\n",
            "0 Between 2018 and 2030, cost differences among powertrains will change considerably, thus altering the TCO analyses. For each type of vehicle, here is how we anticipate that TCOs will be affected by these cost shifts:\n",
            "1 To bring some clarity and direction to this challenge, Strategy&amp;, PwC’s strategy consulting business, recently undertook a detailed analysis that compares the total cost of ownership (TCO) for each powertrain currently and at landmark years through 2030. We projected the cost and required infrastructure to produce and distribute alternative fuels.\n",
            "1 We plugged these factors into TCO analyses covering three separate automotive segments — budget, volume, and premium — and four different mileage ranges that a car can travel before refueling. In our estimates for 2030, we also included the impact of technological gains (mainly for batteries and power electronics), more stringent regulatory requirements for combustion engines, efficiency improvements, fuel costs, and depreciation. Taxes, maintenance, and insurance were also considered but were weighted less heavily.\n"
          ],
          "name": "stdout"
        },
        {
          "output_type": "display_data",
          "data": {
            "image/png": "[encoded data removed]",
            "text/plain": [
              "<Figure size 432x288 with 1 Axes>"
            ]
          },
          "metadata": {
            "tags": []
          }
        }
      ]
    },
    {
      "cell_type": "code",
      "metadata": {
        "id": "acRFZ4sZLo9h",
        "colab_type": "code",
        "colab": {}
      },
      "source": [
        ""
      ],
      "execution_count": 0,
      "outputs": []
    },
    {
      "cell_type": "code",
      "metadata": {
        "id": "QWiLz_VALVfH",
        "colab_type": "code",
        "colab": {}
      },
      "source": [
        ""
      ],
      "execution_count": 0,
      "outputs": []
    }
  ]
}